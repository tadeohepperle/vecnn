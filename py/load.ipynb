{
 "cells": [
  {
   "cell_type": "code",
   "execution_count": null,
   "metadata": {},
   "outputs": [],
   "source": [
    "// use pyo3::prelude::*;\n",
    "\n",
    "// use pyo3::prelude::*;\n",
    "\n",
    "\n",
    "pub fn load_h5_file(path: &str) {\n",
    "    // dbg!(path);\n",
    "}\n"
   ]
  }
 ],
 "metadata": {
  "language_info": {
   "name": "python"
  }
 },
 "nbformat": 4,
 "nbformat_minor": 2
}
