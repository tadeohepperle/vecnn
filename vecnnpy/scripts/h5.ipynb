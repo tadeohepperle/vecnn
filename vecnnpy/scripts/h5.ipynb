{
 "cells": [
  {
   "cell_type": "code",
   "execution_count": 1,
   "metadata": {},
   "outputs": [],
   "source": [
    "import pandas as pd\n",
    "import numpy as np\n",
    "from scipy.spatial import cKDTree\n",
    "import vecnn\n",
    "import time\n",
    "import hnswlib\n",
    "import faiss\n",
    "from typing import Any, Tuple\n",
    "\n",
    "import h5py\n",
    "\n",
    "DATA_PATH = '../../data'\n",
    "\n",
    "laion_path = f'{DATA_PATH}/laion2B-en-clip768v2-n=300K.h5'\n",
    "laion_gold_queries_path = f'{DATA_PATH}/public-queries-2024-laion2B-en-clip768v2-n=10k.h5'\n",
    "laion_gold_path = f'{DATA_PATH}/gold-standard-dbsize=300K--public-queries-2024-laion2B-en-clip768v2-n=10k.h5'\n",
    "\n",
    "f = h5py.File(laion_path, 'r')\n",
    "laion_data = np.array(f[\"emb\"]).astype(\"float32\") # shape: (300000, 768)\n",
    "\n",
    "f = h5py.File(laion_gold_queries_path) \n",
    "laion_gold_queries = np.array(f[\"emb\"]).astype(\"float32\") # shape: (10000, 768)\n",
    "\n",
    "f = h5py.File(laion_gold_path) \n",
    "laion_gold_dists = np.array(f[\"dists\"]).astype(\"float32\") # shape: (10000, 1000), seem to be sorted in ascending order\n",
    "laion_gold_knns = np.array(f[\"knns\"]).astype(\"uint64\") - 1 # -1 bc 1-based indexing in downloaded data. shape: (10000, 1000), same shape as dists"
   ]
  },
  {
   "cell_type": "code",
   "execution_count": 2,
   "metadata": {},
   "outputs": [
    {
     "name": "stdout",
     "output_type": "stream",
     "text": [
      "predicted:  224632\n",
      "from download: (1000,)\n",
      "from vecnn:  [224632 123279   9918    465 134211 227188 274488 176266 170212 134008\n",
      "  58730 293160 158095 242165  35680 260287 254897 183112  80773 167011]\n"
     ]
    }
   ],
   "source": [
    "q = laion_gold_queries[0]\n",
    "\n",
    "best_i = 1000000000\n",
    "max_dot = -33333333\n",
    "for i in range(laion_data.shape[0]):\n",
    "    d = np.dot(laion_data[i,:], q)\n",
    "    if d > max_dot:\n",
    "        max_dot = d\n",
    "        best_i = i\n",
    "\n",
    "print(\"predicted: \", best_i)\n",
    "print(\"from download:\", laion_gold_knns[0].shape)\n",
    "\n",
    "# data = np.random.random((1000,768)).astype(\"float32\")\n",
    "# queries = np.random.random((300,768)).astype(\"float32\")\n",
    "ds = vecnn.Dataset(laion_data)\n",
    "res = vecnn.linear_knn(ds, q, 1000, \"dot\")\n",
    "print(\"from vecnn: \", res.indices[:20])"
   ]
  },
  {
   "cell_type": "code",
   "execution_count": 16,
   "metadata": {},
   "outputs": [
    {
     "name": "stdout",
     "output_type": "stream",
     "text": [
      "1.0\n",
      "[4030 7019 2350  757 7550 4651 8627 8605 4191 5212 4879 9553 3051 5219\n",
      " 8549 5828 1528 9308 9593 2081 6356 2035  647 9539 3925 8349 5236 1136\n",
      " 9949 4783 6671 2531 8806 2989 4317 9655 7278 7050 1027 5381 3060 1731\n",
      " 4533 6845 2179 8271 9325 6825 7992 8194 7445 2169 6340 4199 5940 3268\n",
      " 3061 7150    4 5648 7564 2996 9943 3491 1982 8293 2548 9287 4367 7340\n",
      " 5536 4168 2764 9919 6704 8938 6738 8760 5909 2557 6195 6420  920 9376\n",
      " 2297 5653 4810 8993 2543 8138 2381 5887 9265 8466 6734 7017 5260 5822\n",
      " 7437 6293 2380 1659 7356 4789 2948]\n"
     ]
    }
   ],
   "source": [
    "def overlap(a, b):\n",
    "    assert(len(a) == len(b))\n",
    "    both = np.intersect1d(a, b, assume_unique=False, return_indices=False)\n",
    "    return len(both) / len(a)\n",
    "\n",
    "DATA_N = 10000\n",
    "np.random.seed(42)\n",
    "small_laion_data = laion_data[np.random.choice(laion_data.shape[0], DATA_N, replace=False)]\n",
    "\n",
    "q = laion_gold_queries[0]\n",
    "\n",
    "ds_small = vecnn.Dataset(small_laion_data)\n",
    "true_res = vecnn.linear_knn(ds_small, q, 1000, \"dot\").indices\n",
    "\n",
    "print(overlap(true_res, true_res))\n",
    "\n",
    "# vptree = vecnn.VpTree(ds_small)\n",
    "# res = vptree.knn(q, 1000).indices\n",
    "# print(\"vp_tree: \", overlap(res, true_res))\n",
    "\n",
    "# hnsw = vecnn.Hnsw(ds_small, 0.5, 40, 10, 10, \"dot\")\n",
    "# res = hnsw.knn(q, 1000).indices\n",
    "# print(\"hnsw: \", overlap(res, true_res))\n",
    "\n",
    "# rustcv_hnsw = vecnn.RustCvHnsw(ds_small, 40)\n",
    "# res = rustcv_hnsw.knn(q, 1000, 1000).indices\n",
    "# print(\"rustcv_hnsw: \", overlap(res, true_res))\n",
    "\n",
    "\n",
    "rnn_graph = vecnn.RNNGraph(ds_small, 10, 3, 10, 20, \"dot\")\n",
    "res = rnn_graph.knn(q, 1000, 10).indices\n",
    "print(res)\n"
   ]
  }
 ],
 "metadata": {
  "kernelspec": {
   "display_name": ".venv",
   "language": "python",
   "name": "python3"
  },
  "language_info": {
   "codemirror_mode": {
    "name": "ipython",
    "version": 3
   },
   "file_extension": ".py",
   "mimetype": "text/x-python",
   "name": "python",
   "nbconvert_exporter": "python",
   "pygments_lexer": "ipython3",
   "version": "3.12.4"
  }
 },
 "nbformat": 4,
 "nbformat_minor": 2
}
